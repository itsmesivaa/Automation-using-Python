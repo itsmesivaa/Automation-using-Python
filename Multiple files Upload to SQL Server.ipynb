{
 "cells": [
  {
   "cell_type": "code",
   "execution_count": 27,
   "id": "995ef0dd",
   "metadata": {},
   "outputs": [],
   "source": [
    "#Importing necessary libraries\n",
    "import os\n",
    "import numpy as np\n",
    "import pandas as pd\n",
    "import pyodbc\n"
   ]
  },
  {
   "cell_type": "code",
   "execution_count": 28,
   "id": "2b04e182",
   "metadata": {},
   "outputs": [
    {
     "data": {
      "text/plain": [
       "{'object': 'varchar(30)',\n",
       " 'float64': 'float',\n",
       " 'int64': 'int',\n",
       " 'datetime64': 'timestamp',\n",
       " 'timedelta64[ns]': 'varchar(30)'}"
      ]
     },
     "execution_count": 28,
     "metadata": {},
     "output_type": "execute_result"
    }
   ],
   "source": [
    "#Pandas Dataframe datatype to SQL datatype replacements mapping\n",
    "dtype_replacements = {\n",
    "    \"object\" : 'varchar(30)',\n",
    "    \"float64\" : \"float\",\n",
    "    \"int64\" : \"int\",\n",
    "    \"datetime64\" : \"timestamp\" ,\n",
    "    \"timedelta64[ns]\" : \"varchar(30)\"\n",
    "}\n",
    "dtype_replacements"
   ]
  },
  {
   "cell_type": "code",
   "execution_count": 29,
   "id": "21a0d16d",
   "metadata": {},
   "outputs": [
    {
     "name": "stdout",
     "output_type": "stream",
     "text": [
      "['sec_bhavdata_full_02042024.csv', 'sec_bhavdata_full_03042024.csv', 'sec_bhavdata_full_04042024.csv', 'sec_bhavdata_full_05042024.csv', 'sec_bhavdata_full_08042024.csv', 'sec_bhavdata_full_09042024.csv', 'sec_bhavdata_full_10042024.csv', 'sec_bhavdata_full_11042024.csv', 'sec_bhavdata_full_12042024.csv']\n",
      "Index(['symbol', 'series', 'date', 'prev_close', 'open_price', 'high_price',\n",
      "       'low_price', 'last_price', 'close_price', 'avg_price', 'ttl_trd_qnty',\n",
      "       'turnover_lacs', 'no_of_trades', 'deliv_qty', 'deliv_per'],\n",
      "      dtype='object')\n",
      "symbol            object\n",
      "series            object\n",
      "date              object\n",
      "prev_close       float64\n",
      "open_price       float64\n",
      "high_price       float64\n",
      "low_price        float64\n",
      "last_price        object\n",
      "close_price      float64\n",
      "avg_price        float64\n",
      "ttl_trd_qnty       int64\n",
      "turnover_lacs    float64\n",
      "no_of_trades       int64\n",
      "deliv_qty        float64\n",
      "deliv_per        float64\n",
      "dtype: object\n",
      "symbol varchar(30), series varchar(30), date varchar(30), prev_close float, open_price float, high_price float, low_price float, last_price varchar(30), close_price float, avg_price float, ttl_trd_qnty int, turnover_lacs float, no_of_trades int, deliv_qty float, deliv_per float\n",
      "Index(['symbol', 'series', 'date', 'prev_close', 'open_price', 'high_price',\n",
      "       'low_price', 'last_price', 'close_price', 'avg_price', 'ttl_trd_qnty',\n",
      "       'turnover_lacs', 'no_of_trades', 'deliv_qty', 'deliv_per'],\n",
      "      dtype='object')\n",
      "symbol            object\n",
      "series            object\n",
      "date              object\n",
      "prev_close       float64\n",
      "open_price       float64\n",
      "high_price       float64\n",
      "low_price        float64\n",
      "last_price        object\n",
      "close_price      float64\n",
      "avg_price        float64\n",
      "ttl_trd_qnty       int64\n",
      "turnover_lacs    float64\n",
      "no_of_trades       int64\n",
      "deliv_qty        float64\n",
      "deliv_per        float64\n",
      "dtype: object\n",
      "symbol varchar(30), series varchar(30), date varchar(30), prev_close float, open_price float, high_price float, low_price float, last_price varchar(30), close_price float, avg_price float, ttl_trd_qnty int, turnover_lacs float, no_of_trades int, deliv_qty float, deliv_per float\n",
      "Index(['symbol', 'series', 'date', 'prev_close', 'open_price', 'high_price',\n",
      "       'low_price', 'last_price', 'close_price', 'avg_price', 'ttl_trd_qnty',\n",
      "       'turnover_lacs', 'no_of_trades', 'deliv_qty', 'deliv_per'],\n",
      "      dtype='object')\n",
      "symbol            object\n",
      "series            object\n",
      "date              object\n",
      "prev_close       float64\n",
      "open_price       float64\n",
      "high_price       float64\n",
      "low_price        float64\n",
      "last_price        object\n",
      "close_price      float64\n",
      "avg_price        float64\n",
      "ttl_trd_qnty       int64\n",
      "turnover_lacs    float64\n",
      "no_of_trades       int64\n",
      "deliv_qty        float64\n",
      "deliv_per        float64\n",
      "dtype: object\n",
      "symbol varchar(30), series varchar(30), date varchar(30), prev_close float, open_price float, high_price float, low_price float, last_price varchar(30), close_price float, avg_price float, ttl_trd_qnty int, turnover_lacs float, no_of_trades int, deliv_qty float, deliv_per float\n",
      "Index(['symbol', 'series', 'date', 'prev_close', 'open_price', 'high_price',\n",
      "       'low_price', 'last_price', 'close_price', 'avg_price', 'ttl_trd_qnty',\n",
      "       'turnover_lacs', 'no_of_trades', 'deliv_qty', 'deliv_per'],\n",
      "      dtype='object')\n",
      "symbol            object\n",
      "series            object\n",
      "date              object\n",
      "prev_close       float64\n",
      "open_price       float64\n",
      "high_price       float64\n",
      "low_price        float64\n",
      "last_price        object\n",
      "close_price      float64\n",
      "avg_price        float64\n",
      "ttl_trd_qnty       int64\n",
      "turnover_lacs    float64\n",
      "no_of_trades       int64\n",
      "deliv_qty        float64\n",
      "deliv_per        float64\n",
      "dtype: object\n"
     ]
    },
    {
     "ename": "PermissionError",
     "evalue": "[Errno 13] Permission denied: 'D:\\\\\\\\Udemy Courses\\\\Bhavcopy\\\\sec_bhavdata_full_05042024.csv'",
     "output_type": "error",
     "traceback": [
      "\u001b[1;31m---------------------------------------------------------------------------\u001b[0m",
      "\u001b[1;31mPermissionError\u001b[0m                           Traceback (most recent call last)",
      "Cell \u001b[1;32mIn[29], line 22\u001b[0m\n\u001b[0;32m     20\u001b[0m \u001b[38;5;66;03m#generating sql table name with appropriate datatype based on CSV file for the columns\u001b[39;00m\n\u001b[0;32m     21\u001b[0m sql_table_cols \u001b[38;5;241m=\u001b[39m \u001b[38;5;124m\"\u001b[39m\u001b[38;5;124m, \u001b[39m\u001b[38;5;124m\"\u001b[39m\u001b[38;5;241m.\u001b[39mjoin(\u001b[38;5;124m\"\u001b[39m\u001b[38;5;132;01m{}\u001b[39;00m\u001b[38;5;124m \u001b[39m\u001b[38;5;132;01m{}\u001b[39;00m\u001b[38;5;124m\"\u001b[39m\u001b[38;5;241m.\u001b[39mformat(name,dtype) \u001b[38;5;28;01mfor\u001b[39;00m (name,dtype) \u001b[38;5;129;01min\u001b[39;00m \u001b[38;5;28mzip\u001b[39m(df\u001b[38;5;241m.\u001b[39mcolumns,df\u001b[38;5;241m.\u001b[39mdtypes\u001b[38;5;241m.\u001b[39mreplace(dtype_replacements)))\n\u001b[1;32m---> 22\u001b[0m df\u001b[38;5;241m.\u001b[39mto_csv(os\u001b[38;5;241m.\u001b[39mpath\u001b[38;5;241m.\u001b[39mjoin(path_name,filename), index\u001b[38;5;241m=\u001b[39m \u001b[38;5;28;01mFalse\u001b[39;00m, encoding \u001b[38;5;241m=\u001b[39m \u001b[38;5;124m'\u001b[39m\u001b[38;5;124mutf-8\u001b[39m\u001b[38;5;124m'\u001b[39m)\n\u001b[0;32m     23\u001b[0m \u001b[38;5;28mprint\u001b[39m(sql_table_cols)\n",
      "File \u001b[1;32m~\\anaconda3\\Lib\\site-packages\\pandas\\core\\generic.py:3772\u001b[0m, in \u001b[0;36mNDFrame.to_csv\u001b[1;34m(self, path_or_buf, sep, na_rep, float_format, columns, header, index, index_label, mode, encoding, compression, quoting, quotechar, lineterminator, chunksize, date_format, doublequote, escapechar, decimal, errors, storage_options)\u001b[0m\n\u001b[0;32m   3761\u001b[0m df \u001b[38;5;241m=\u001b[39m \u001b[38;5;28mself\u001b[39m \u001b[38;5;28;01mif\u001b[39;00m \u001b[38;5;28misinstance\u001b[39m(\u001b[38;5;28mself\u001b[39m, ABCDataFrame) \u001b[38;5;28;01melse\u001b[39;00m \u001b[38;5;28mself\u001b[39m\u001b[38;5;241m.\u001b[39mto_frame()\n\u001b[0;32m   3763\u001b[0m formatter \u001b[38;5;241m=\u001b[39m DataFrameFormatter(\n\u001b[0;32m   3764\u001b[0m     frame\u001b[38;5;241m=\u001b[39mdf,\n\u001b[0;32m   3765\u001b[0m     header\u001b[38;5;241m=\u001b[39mheader,\n\u001b[1;32m   (...)\u001b[0m\n\u001b[0;32m   3769\u001b[0m     decimal\u001b[38;5;241m=\u001b[39mdecimal,\n\u001b[0;32m   3770\u001b[0m )\n\u001b[1;32m-> 3772\u001b[0m \u001b[38;5;28;01mreturn\u001b[39;00m DataFrameRenderer(formatter)\u001b[38;5;241m.\u001b[39mto_csv(\n\u001b[0;32m   3773\u001b[0m     path_or_buf,\n\u001b[0;32m   3774\u001b[0m     lineterminator\u001b[38;5;241m=\u001b[39mlineterminator,\n\u001b[0;32m   3775\u001b[0m     sep\u001b[38;5;241m=\u001b[39msep,\n\u001b[0;32m   3776\u001b[0m     encoding\u001b[38;5;241m=\u001b[39mencoding,\n\u001b[0;32m   3777\u001b[0m     errors\u001b[38;5;241m=\u001b[39merrors,\n\u001b[0;32m   3778\u001b[0m     compression\u001b[38;5;241m=\u001b[39mcompression,\n\u001b[0;32m   3779\u001b[0m     quoting\u001b[38;5;241m=\u001b[39mquoting,\n\u001b[0;32m   3780\u001b[0m     columns\u001b[38;5;241m=\u001b[39mcolumns,\n\u001b[0;32m   3781\u001b[0m     index_label\u001b[38;5;241m=\u001b[39mindex_label,\n\u001b[0;32m   3782\u001b[0m     mode\u001b[38;5;241m=\u001b[39mmode,\n\u001b[0;32m   3783\u001b[0m     chunksize\u001b[38;5;241m=\u001b[39mchunksize,\n\u001b[0;32m   3784\u001b[0m     quotechar\u001b[38;5;241m=\u001b[39mquotechar,\n\u001b[0;32m   3785\u001b[0m     date_format\u001b[38;5;241m=\u001b[39mdate_format,\n\u001b[0;32m   3786\u001b[0m     doublequote\u001b[38;5;241m=\u001b[39mdoublequote,\n\u001b[0;32m   3787\u001b[0m     escapechar\u001b[38;5;241m=\u001b[39mescapechar,\n\u001b[0;32m   3788\u001b[0m     storage_options\u001b[38;5;241m=\u001b[39mstorage_options,\n\u001b[0;32m   3789\u001b[0m )\n",
      "File \u001b[1;32m~\\anaconda3\\Lib\\site-packages\\pandas\\io\\formats\\format.py:1186\u001b[0m, in \u001b[0;36mDataFrameRenderer.to_csv\u001b[1;34m(self, path_or_buf, encoding, sep, columns, index_label, mode, compression, quoting, quotechar, lineterminator, chunksize, date_format, doublequote, escapechar, errors, storage_options)\u001b[0m\n\u001b[0;32m   1165\u001b[0m     created_buffer \u001b[38;5;241m=\u001b[39m \u001b[38;5;28;01mFalse\u001b[39;00m\n\u001b[0;32m   1167\u001b[0m csv_formatter \u001b[38;5;241m=\u001b[39m CSVFormatter(\n\u001b[0;32m   1168\u001b[0m     path_or_buf\u001b[38;5;241m=\u001b[39mpath_or_buf,\n\u001b[0;32m   1169\u001b[0m     lineterminator\u001b[38;5;241m=\u001b[39mlineterminator,\n\u001b[1;32m   (...)\u001b[0m\n\u001b[0;32m   1184\u001b[0m     formatter\u001b[38;5;241m=\u001b[39m\u001b[38;5;28mself\u001b[39m\u001b[38;5;241m.\u001b[39mfmt,\n\u001b[0;32m   1185\u001b[0m )\n\u001b[1;32m-> 1186\u001b[0m csv_formatter\u001b[38;5;241m.\u001b[39msave()\n\u001b[0;32m   1188\u001b[0m \u001b[38;5;28;01mif\u001b[39;00m created_buffer:\n\u001b[0;32m   1189\u001b[0m     \u001b[38;5;28;01massert\u001b[39;00m \u001b[38;5;28misinstance\u001b[39m(path_or_buf, StringIO)\n",
      "File \u001b[1;32m~\\anaconda3\\Lib\\site-packages\\pandas\\io\\formats\\csvs.py:240\u001b[0m, in \u001b[0;36mCSVFormatter.save\u001b[1;34m(self)\u001b[0m\n\u001b[0;32m    236\u001b[0m \u001b[38;5;250m\u001b[39m\u001b[38;5;124;03m\"\"\"\u001b[39;00m\n\u001b[0;32m    237\u001b[0m \u001b[38;5;124;03mCreate the writer & save.\u001b[39;00m\n\u001b[0;32m    238\u001b[0m \u001b[38;5;124;03m\"\"\"\u001b[39;00m\n\u001b[0;32m    239\u001b[0m \u001b[38;5;66;03m# apply compression and byte/text conversion\u001b[39;00m\n\u001b[1;32m--> 240\u001b[0m \u001b[38;5;28;01mwith\u001b[39;00m get_handle(\n\u001b[0;32m    241\u001b[0m     \u001b[38;5;28mself\u001b[39m\u001b[38;5;241m.\u001b[39mfilepath_or_buffer,\n\u001b[0;32m    242\u001b[0m     \u001b[38;5;28mself\u001b[39m\u001b[38;5;241m.\u001b[39mmode,\n\u001b[0;32m    243\u001b[0m     encoding\u001b[38;5;241m=\u001b[39m\u001b[38;5;28mself\u001b[39m\u001b[38;5;241m.\u001b[39mencoding,\n\u001b[0;32m    244\u001b[0m     errors\u001b[38;5;241m=\u001b[39m\u001b[38;5;28mself\u001b[39m\u001b[38;5;241m.\u001b[39merrors,\n\u001b[0;32m    245\u001b[0m     compression\u001b[38;5;241m=\u001b[39m\u001b[38;5;28mself\u001b[39m\u001b[38;5;241m.\u001b[39mcompression,\n\u001b[0;32m    246\u001b[0m     storage_options\u001b[38;5;241m=\u001b[39m\u001b[38;5;28mself\u001b[39m\u001b[38;5;241m.\u001b[39mstorage_options,\n\u001b[0;32m    247\u001b[0m ) \u001b[38;5;28;01mas\u001b[39;00m handles:\n\u001b[0;32m    248\u001b[0m     \u001b[38;5;66;03m# Note: self.encoding is irrelevant here\u001b[39;00m\n\u001b[0;32m    249\u001b[0m     \u001b[38;5;28mself\u001b[39m\u001b[38;5;241m.\u001b[39mwriter \u001b[38;5;241m=\u001b[39m csvlib\u001b[38;5;241m.\u001b[39mwriter(\n\u001b[0;32m    250\u001b[0m         handles\u001b[38;5;241m.\u001b[39mhandle,\n\u001b[0;32m    251\u001b[0m         lineterminator\u001b[38;5;241m=\u001b[39m\u001b[38;5;28mself\u001b[39m\u001b[38;5;241m.\u001b[39mlineterminator,\n\u001b[1;32m   (...)\u001b[0m\n\u001b[0;32m    256\u001b[0m         quotechar\u001b[38;5;241m=\u001b[39m\u001b[38;5;28mself\u001b[39m\u001b[38;5;241m.\u001b[39mquotechar,\n\u001b[0;32m    257\u001b[0m     )\n\u001b[0;32m    259\u001b[0m     \u001b[38;5;28mself\u001b[39m\u001b[38;5;241m.\u001b[39m_save()\n",
      "File \u001b[1;32m~\\anaconda3\\Lib\\site-packages\\pandas\\io\\common.py:859\u001b[0m, in \u001b[0;36mget_handle\u001b[1;34m(path_or_buf, mode, encoding, compression, memory_map, is_text, errors, storage_options)\u001b[0m\n\u001b[0;32m    854\u001b[0m \u001b[38;5;28;01melif\u001b[39;00m \u001b[38;5;28misinstance\u001b[39m(handle, \u001b[38;5;28mstr\u001b[39m):\n\u001b[0;32m    855\u001b[0m     \u001b[38;5;66;03m# Check whether the filename is to be opened in binary mode.\u001b[39;00m\n\u001b[0;32m    856\u001b[0m     \u001b[38;5;66;03m# Binary mode does not support 'encoding' and 'newline'.\u001b[39;00m\n\u001b[0;32m    857\u001b[0m     \u001b[38;5;28;01mif\u001b[39;00m ioargs\u001b[38;5;241m.\u001b[39mencoding \u001b[38;5;129;01mand\u001b[39;00m \u001b[38;5;124m\"\u001b[39m\u001b[38;5;124mb\u001b[39m\u001b[38;5;124m\"\u001b[39m \u001b[38;5;129;01mnot\u001b[39;00m \u001b[38;5;129;01min\u001b[39;00m ioargs\u001b[38;5;241m.\u001b[39mmode:\n\u001b[0;32m    858\u001b[0m         \u001b[38;5;66;03m# Encoding\u001b[39;00m\n\u001b[1;32m--> 859\u001b[0m         handle \u001b[38;5;241m=\u001b[39m \u001b[38;5;28mopen\u001b[39m(\n\u001b[0;32m    860\u001b[0m             handle,\n\u001b[0;32m    861\u001b[0m             ioargs\u001b[38;5;241m.\u001b[39mmode,\n\u001b[0;32m    862\u001b[0m             encoding\u001b[38;5;241m=\u001b[39mioargs\u001b[38;5;241m.\u001b[39mencoding,\n\u001b[0;32m    863\u001b[0m             errors\u001b[38;5;241m=\u001b[39merrors,\n\u001b[0;32m    864\u001b[0m             newline\u001b[38;5;241m=\u001b[39m\u001b[38;5;124m\"\u001b[39m\u001b[38;5;124m\"\u001b[39m,\n\u001b[0;32m    865\u001b[0m         )\n\u001b[0;32m    866\u001b[0m     \u001b[38;5;28;01melse\u001b[39;00m:\n\u001b[0;32m    867\u001b[0m         \u001b[38;5;66;03m# Binary mode\u001b[39;00m\n\u001b[0;32m    868\u001b[0m         handle \u001b[38;5;241m=\u001b[39m \u001b[38;5;28mopen\u001b[39m(handle, ioargs\u001b[38;5;241m.\u001b[39mmode)\n",
      "\u001b[1;31mPermissionError\u001b[0m: [Errno 13] Permission denied: 'D:\\\\\\\\Udemy Courses\\\\Bhavcopy\\\\sec_bhavdata_full_05042024.csv'"
     ]
    }
   ],
   "source": [
    "#Iterating every csv files in the local drive path and pre-processing data\n",
    "\n",
    "path_name = r\"D:\\\\Udemy Courses\\Bhavcopy\"\n",
    "files_in_dir = os.listdir(path_name)\n",
    "print(files_in_dir)\n",
    "\n",
    "\n",
    "for filename in files_in_dir:\n",
    "    if filename.endswith('.csv'):\n",
    "        df = pd.read_csv(os.path.join(path_name,filename))\n",
    "        \n",
    "        #replacing the column headers to lowercase and inappropriate naming conventions\n",
    "        df.columns = [x.lower().replace(\" \",'').replace(\"1\",'') for x in df.columns]\n",
    "        print(df.columns)\n",
    "        print(df.dtypes)\n",
    "        \n",
    "         #Handling incosistent data in column names in csv files.\n",
    "        df = df.replace(' -','')\n",
    "        \n",
    "        #generating sql table name with appropriate datatype based on CSV file for the columns\n",
    "        sql_table_cols = \", \".join(\"{} {}\".format(name,dtype) for (name,dtype) in zip(df.columns,df.dtypes.replace(dtype_replacements)))\n",
    "        df.to_csv(os.path.join(path_name,filename), index= False, encoding = 'utf-8')\n",
    "        print(sql_table_cols)\n",
    "        \n",
    "#os.path.join()"
   ]
  },
  {
   "cell_type": "code",
   "execution_count": 12,
   "id": "3a090698",
   "metadata": {},
   "outputs": [
    {
     "ename": "SyntaxError",
     "evalue": "invalid syntax (3393649726.py, line 2)",
     "output_type": "error",
     "traceback": [
      "\u001b[1;36m  Cell \u001b[1;32mIn[12], line 2\u001b[1;36m\u001b[0m\n\u001b[1;33m    create table nse_dailydata_bhav_copy\u001b[0m\n\u001b[1;37m           ^\u001b[0m\n\u001b[1;31mSyntaxError\u001b[0m\u001b[1;31m:\u001b[0m invalid syntax\n"
     ]
    }
   ],
   "source": [
    "#Table structure to be created\n",
    "create table nse_dailydata_bhav_copy\n",
    "(\n",
    "    symbol            varchar,\n",
    "    series            varchar,\n",
    "    date              varchar,\n",
    "    prev_close        float,\n",
    "    open_price        float,\n",
    "    high_price        float,\n",
    "    low_price         float,\n",
    "    last_price        float,\n",
    "    close_price       float,\n",
    "    avg_price         float,\n",
    "    ttl_trn_qnty      int,\n",
    "    turnover_lacs     float,\n",
    "    no_of_trades      int,\n",
    "    deliv_qty         int,\n",
    "    deliv_per         float    \n",
    ");"
   ]
  },
  {
   "cell_type": "code",
   "execution_count": 22,
   "id": "ad18a7be",
   "metadata": {},
   "outputs": [
    {
     "data": {
      "text/plain": [
       "['SQL Server',\n",
       " 'Amazon Redshift (x64)',\n",
       " 'SQL Server Native Client RDA 11.0',\n",
       " 'ODBC Driver 17 for SQL Server',\n",
       " 'Microsoft Access Driver (*.mdb, *.accdb)',\n",
       " 'Microsoft Excel Driver (*.xls, *.xlsx, *.xlsm, *.xlsb)',\n",
       " 'Microsoft Access Text Driver (*.txt, *.csv)']"
      ]
     },
     "execution_count": 22,
     "metadata": {},
     "output_type": "execute_result"
    }
   ],
   "source": [
    "#Listing available PYODBC drivers\n",
    "pyodbc.drivers()"
   ]
  },
  {
   "cell_type": "code",
   "execution_count": 30,
   "id": "50a7bb1f",
   "metadata": {},
   "outputs": [
    {
     "name": "stdout",
     "output_type": "stream",
     "text": [
      "opened database successfully\n"
     ]
    }
   ],
   "source": [
    "#Establishing and Open DB connectivity\n",
    "driver_name = \"SQL Server Native Client RDA 11.0\"\n",
    "server_name = \"DESKTOP-EQ55Q8H\"\n",
    "db_name = 'NSEBhavcopy'\n",
    "\n",
    "\n",
    "cnxn = pyodbc.connect(f\"\"\"\n",
    "    Driver={{SQL Server}};\n",
    "    Server={server_name};\n",
    "    Database={db_name};\n",
    "    \"\"\")\n",
    "\n",
    "cursor = cnxn.cursor()\n",
    "print ('opened database successfully')\n"
   ]
  },
  {
   "cell_type": "code",
   "execution_count": 22,
   "id": "f3b86057",
   "metadata": {},
   "outputs": [
    {
     "data": {
      "text/plain": [
       "<pyodbc.Cursor at 0x1a5042ac330>"
      ]
     },
     "execution_count": 22,
     "metadata": {},
     "output_type": "execute_result"
    }
   ],
   "source": [
    "#Dropping same tables if exists on DB\n",
    "\n",
    "cursor.execute(\"drop table if exists nse_dailydata_bhav_copy;\")"
   ]
  },
  {
   "cell_type": "code",
   "execution_count": 20,
   "id": "c2c97bf6",
   "metadata": {},
   "outputs": [
    {
     "data": {
      "text/plain": [
       "<pyodbc.Cursor at 0x1a5042ac330>"
      ]
     },
     "execution_count": 20,
     "metadata": {},
     "output_type": "execute_result"
    }
   ],
   "source": [
    "#Creating table \n",
    "cursor.execute (\"create table nse_dailydata_bhav_copy \\\n",
    "                (symbol varchar(30), series varchar(30), date varchar(30), prev_close float, open_price float, \\\n",
    "                high_price float, low_price float, last_price varchar(30), close_price float, avg_price float, \\\n",
    "                ttl_trd_qnty int, turnover_lacs float, no_of_trades int, deliv_qty float, deliv_per float)\")"
   ]
  },
  {
   "cell_type": "code",
   "execution_count": null,
   "id": "a0cdd8f4",
   "metadata": {},
   "outputs": [],
   "source": []
  },
  {
   "cell_type": "code",
   "execution_count": 36,
   "id": "86c91594",
   "metadata": {},
   "outputs": [],
   "source": [
    "\n",
    "try:\n",
    "    # here we can use with statement to automatically close connection once the operation is complete\n",
    "    with cursor:\n",
    "        for filename in files_in_dir:\n",
    "            if filename.endswith('.csv'):\n",
    "                    sql_stmt = f\"\"\"\n",
    "                                BULK INSERT nse_dailydata_bhav_copy FROM '{os.path.join(path_name,filename)}'\n",
    "                                WITH (\n",
    "                                FORMAT = 'CSV',\n",
    "                                FIRSTROW = 2,\n",
    "                                FIELDTERMINATOR  = ',',\n",
    "                                ROWTERMINATOR = '0x0a'\n",
    "                                )\n",
    "                                \"\"\".strip()\n",
    "                    cursor.execute(sql_stmt)\n",
    "                    #print(os.path.join(path_name,filename), nse_dailydata_bhav_copy + ' inserted')\n",
    "\n",
    "                 \n",
    "        cursor.commit()\n",
    "except Exception as e:\n",
    "    print(e)\n",
    "    cursor.rollback()\n",
    "    print('Transaction rollback')"
   ]
  },
  {
   "cell_type": "code",
   "execution_count": null,
   "id": "90fd29fd",
   "metadata": {},
   "outputs": [],
   "source": []
  },
  {
   "cell_type": "code",
   "execution_count": null,
   "id": "8f8c0a94",
   "metadata": {},
   "outputs": [],
   "source": []
  }
 ],
 "metadata": {
  "kernelspec": {
   "display_name": "Python 3 (ipykernel)",
   "language": "python",
   "name": "python3"
  },
  "language_info": {
   "codemirror_mode": {
    "name": "ipython",
    "version": 3
   },
   "file_extension": ".py",
   "mimetype": "text/x-python",
   "name": "python",
   "nbconvert_exporter": "python",
   "pygments_lexer": "ipython3",
   "version": "3.11.5"
  }
 },
 "nbformat": 4,
 "nbformat_minor": 5
}
