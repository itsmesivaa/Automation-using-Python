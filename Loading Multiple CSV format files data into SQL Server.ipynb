{
 "cells": [
  {
   "cell_type": "markdown",
   "id": "32126160",
   "metadata": {},
   "source": [
    "# Loading Multiple CSV format files into SQL Server"
   ]
  },
  {
   "cell_type": "code",
   "execution_count": 1,
   "id": "c63663dc",
   "metadata": {},
   "outputs": [
    {
     "name": "stdout",
     "output_type": "stream",
     "text": [
      "Requirement already satisfied: pypyodbc in c:\\users\\admin\\anaconda3\\lib\\site-packages (1.3.6)\n",
      "Requirement already satisfied: setuptools in c:\\users\\admin\\anaconda3\\lib\\site-packages (from pypyodbc) (68.0.0)\n"
     ]
    }
   ],
   "source": [
    "!pip install pypyodbc"
   ]
  },
  {
   "cell_type": "code",
   "execution_count": 157,
   "id": "01a5bb7d",
   "metadata": {},
   "outputs": [],
   "source": [
    "#Importing required packages to process\n",
    "\n",
    "import os\n",
    "import pyodbc as odbc\n",
    "import pandas as pd"
   ]
  },
  {
   "cell_type": "markdown",
   "id": "b559380f",
   "metadata": {},
   "source": [
    "# Renaming the inconsistent column name by removing Leading Space by iteration"
   ]
  },
  {
   "cell_type": "code",
   "execution_count": 184,
   "id": "a72b3617",
   "metadata": {},
   "outputs": [
    {
     "name": "stdout",
     "output_type": "stream",
     "text": [
      "C:\\Users\\Admin\\Automation_Python\\Bhavcopy\\sec_bhavdata_full_02042024.csv\n",
      "Index(['SYMBOL', 'SERIES', 'DATE1', 'PREV_CLOSE', 'OPEN_PRICE', 'HIGH_PRICE',\n",
      "       'LOW_PRICE', 'LAST_PRICE', 'CLOSE_PRICE', 'AVG_PRICE', 'TTL_TRD_QNTY',\n",
      "       'TURNOVER_LACS', 'NO_OF_TRADES', 'DELIV_QTY', 'DELIV_PER'],\n",
      "      dtype='object')\n",
      "C:\\Users\\Admin\\Automation_Python\\Bhavcopy\\sec_bhavdata_full_03042024.csv\n",
      "Index(['SYMBOL', 'SERIES', 'DATE1', 'PREV_CLOSE', 'OPEN_PRICE', 'HIGH_PRICE',\n",
      "       'LOW_PRICE', 'LAST_PRICE', 'CLOSE_PRICE', 'AVG_PRICE', 'TTL_TRD_QNTY',\n",
      "       'TURNOVER_LACS', 'NO_OF_TRADES', 'DELIV_QTY', 'DELIV_PER'],\n",
      "      dtype='object')\n",
      "C:\\Users\\Admin\\Automation_Python\\Bhavcopy\\sec_bhavdata_full_04042024.csv\n",
      "Index(['SYMBOL', 'SERIES', 'DATE1', 'PREV_CLOSE', 'OPEN_PRICE', 'HIGH_PRICE',\n",
      "       'LOW_PRICE', 'LAST_PRICE', 'CLOSE_PRICE', 'AVG_PRICE', 'TTL_TRD_QNTY',\n",
      "       'TURNOVER_LACS', 'NO_OF_TRADES', 'DELIV_QTY', 'DELIV_PER'],\n",
      "      dtype='object')\n",
      "C:\\Users\\Admin\\Automation_Python\\Bhavcopy\\sec_bhavdata_full_05042024.csv\n",
      "Index(['SYMBOL', 'SERIES', 'DATE1', 'PREV_CLOSE', 'OPEN_PRICE', 'HIGH_PRICE',\n",
      "       'LOW_PRICE', 'LAST_PRICE', 'CLOSE_PRICE', 'AVG_PRICE', 'TTL_TRD_QNTY',\n",
      "       'TURNOVER_LACS', 'NO_OF_TRADES', 'DELIV_QTY', 'DELIV_PER'],\n",
      "      dtype='object')\n",
      "C:\\Users\\Admin\\Automation_Python\\Bhavcopy\\sec_bhavdata_full_08042024.csv\n",
      "Index(['SYMBOL', 'SERIES', 'DATE1', 'PREV_CLOSE', 'OPEN_PRICE', 'HIGH_PRICE',\n",
      "       'LOW_PRICE', 'LAST_PRICE', 'CLOSE_PRICE', 'AVG_PRICE', 'TTL_TRD_QNTY',\n",
      "       'TURNOVER_LACS', 'NO_OF_TRADES', 'DELIV_QTY', 'DELIV_PER'],\n",
      "      dtype='object')\n",
      "C:\\Users\\Admin\\Automation_Python\\Bhavcopy\\sec_bhavdata_full_09042024.csv\n",
      "Index(['SYMBOL', 'SERIES', 'DATE1', 'PREV_CLOSE', 'OPEN_PRICE', 'HIGH_PRICE',\n",
      "       'LOW_PRICE', 'LAST_PRICE', 'CLOSE_PRICE', 'AVG_PRICE', 'TTL_TRD_QNTY',\n",
      "       'TURNOVER_LACS', 'NO_OF_TRADES', 'DELIV_QTY', 'DELIV_PER'],\n",
      "      dtype='object')\n",
      "C:\\Users\\Admin\\Automation_Python\\Bhavcopy\\sec_bhavdata_full_10042024.csv\n",
      "Index(['SYMBOL', 'SERIES', 'DATE1', 'PREV_CLOSE', 'OPEN_PRICE', 'HIGH_PRICE',\n",
      "       'LOW_PRICE', 'LAST_PRICE', 'CLOSE_PRICE', 'AVG_PRICE', 'TTL_TRD_QNTY',\n",
      "       'TURNOVER_LACS', 'NO_OF_TRADES', 'DELIV_QTY', 'DELIV_PER'],\n",
      "      dtype='object')\n",
      "C:\\Users\\Admin\\Automation_Python\\Bhavcopy\\sec_bhavdata_full_11042024.csv\n",
      "Index(['SYMBOL', 'SERIES', 'DATE1', 'PREV_CLOSE', 'OPEN_PRICE', 'HIGH_PRICE',\n",
      "       'LOW_PRICE', 'LAST_PRICE', 'CLOSE_PRICE', 'AVG_PRICE', 'TTL_TRD_QNTY',\n",
      "       'TURNOVER_LACS', 'NO_OF_TRADES', 'DELIV_QTY', 'DELIV_PER'],\n",
      "      dtype='object')\n"
     ]
    }
   ],
   "source": [
    "# Data Cleansing\n",
    "\n",
    "data_file_folder = os.path.join(os.getcwd(), 'Bhavcopy')\n",
    "data_files = os.listdir(path = data_file_folder)\n",
    "for data_file in data_files:\n",
    "    # Remove spaces from column headers\n",
    "    print(os.path.join(data_file_folder, data_file))\n",
    "    df = pd.read_csv(os.path.join(data_file_folder, data_file))\n",
    "    print(df.columns)\n",
    "    #Removing the space of column names in csv files.\n",
    "    df.rename(columns={' SERIES': 'SERIES', ' DATE1': 'DATE1', ' PREV_CLOSE': 'PREV_CLOSE', ' OPEN_PRICE': 'OPEN_PRICE',\n",
    "                       ' HIGH_PRICE': 'HIGH_PRICE',' LOW_PRICE': 'LOW_PRICE', ' LAST_PRICE': 'LAST_PRICE',\n",
    "                       ' CLOSE_PRICE': 'CLOSE_PRICE', ' AVG_PRICE': 'AVG_PRICE', ' TTL_TRD_QNTY': 'TTL_TRD_QNTY',\n",
    "                       ' TURNOVER_LACS': 'TURNOVER_LACS', ' NO_OF_TRADES': 'NO_OF_TRADES', ' DELIV_QTY': 'DELIV_QTY',\n",
    "                       ' DELIV_PER': 'DELIV_PER'\n",
    "                      }, \n",
    "              inplace=True)\n",
    "\n",
    "    \n",
    "    #Handling incosistent data in column names in csv files.\n",
    "    df = df.replace(' -','')\n",
    "    \n",
    "    #Applying the changes on base location\n",
    "    df.to_csv(os.path.join(data_file_folder, data_file),index = False)"
   ]
  },
  {
   "cell_type": "markdown",
   "id": "675a644a",
   "metadata": {},
   "source": [
    "# Function to BULK INSERT statement to import data into SQL Server"
   ]
  },
  {
   "cell_type": "code",
   "execution_count": 185,
   "id": "4c3ed59d",
   "metadata": {},
   "outputs": [],
   "source": [
    "def csv_bulk_insert(data_file, target_sql_table):\n",
    "    sql = f\"\"\"\n",
    "            BULK INSERT {target_sql_table}\n",
    "            from '{data_file}'\n",
    "            WITH (\n",
    "                FORMAT = 'CSV',\n",
    "                FIRSTROW = 2,\n",
    "                FIELDTERMINATOR  = ',',\n",
    "                ROWTERMINATOR = '0x0a'\n",
    "            )\n",
    "            \"\"\".strip()\n",
    "    return sql\n",
    "            "
   ]
  },
  {
   "cell_type": "code",
   "execution_count": 186,
   "id": "162056a3",
   "metadata": {},
   "outputs": [],
   "source": [
    "#Grouping the connection parameters\n",
    "\n",
    "DATABASE_NAME = 'NSEBhavcopy'\n",
    "target_sql_table = 'nse_dailydata_bhav_copy'\n",
    "SERVER_NAME = 'DESKTOP-EQ55Q8H'\n"
   ]
  },
  {
   "cell_type": "code",
   "execution_count": 187,
   "id": "40aa7545",
   "metadata": {},
   "outputs": [
    {
     "name": "stdout",
     "output_type": "stream",
     "text": [
      "<pyodbc.Connection object at 0x00000201686CEB40>\n"
     ]
    }
   ],
   "source": [
    "#SQL Server Connection Establishment\n",
    "conn = odbc.connect(f\"\"\"\n",
    "    Driver={{SQL Server}};\n",
    "    Server={SERVER_NAME};\n",
    "    Database={DATABASE_NAME};\n",
    "    # uid=<user id>;\n",
    "    # pwd=<password>;\n",
    "    \"\"\".strip())\n",
    "\n",
    "print(conn)"
   ]
  },
  {
   "cell_type": "code",
   "execution_count": 188,
   "id": "5142c07d",
   "metadata": {},
   "outputs": [
    {
     "data": {
      "text/plain": [
       "'C:\\\\Users\\\\Admin\\\\Automation_Python'"
      ]
     },
     "execution_count": 188,
     "metadata": {},
     "output_type": "execute_result"
    }
   ],
   "source": [
    "os.getcwd()"
   ]
  },
  {
   "cell_type": "code",
   "execution_count": 189,
   "id": "cd52f36a",
   "metadata": {},
   "outputs": [
    {
     "name": "stdout",
     "output_type": "stream",
     "text": [
      "C:\\Users\\Admin\\Automation_Python\\Bhavcopy\n"
     ]
    }
   ],
   "source": [
    "data_file_folder = os.path.join(os.getcwd(), 'Bhavcopy')\n",
    "print(data_file_folder)\n"
   ]
  },
  {
   "cell_type": "code",
   "execution_count": 190,
   "id": "7e3f05c3",
   "metadata": {},
   "outputs": [
    {
     "data": {
      "text/plain": [
       "['sec_bhavdata_full_02042024.csv',\n",
       " 'sec_bhavdata_full_03042024.csv',\n",
       " 'sec_bhavdata_full_04042024.csv',\n",
       " 'sec_bhavdata_full_05042024.csv',\n",
       " 'sec_bhavdata_full_08042024.csv',\n",
       " 'sec_bhavdata_full_09042024.csv',\n",
       " 'sec_bhavdata_full_10042024.csv',\n",
       " 'sec_bhavdata_full_11042024.csv']"
      ]
     },
     "execution_count": 190,
     "metadata": {},
     "output_type": "execute_result"
    }
   ],
   "source": [
    "data_files = os.listdir(path = data_file_folder)\n",
    "data_files"
   ]
  },
  {
   "cell_type": "markdown",
   "id": "36ffd83b",
   "metadata": {},
   "source": [
    "# Iterating through the base location to upload data in SQL server"
   ]
  },
  {
   "cell_type": "code",
   "execution_count": 192,
   "id": "777c4c10",
   "metadata": {},
   "outputs": [],
   "source": [
    "cursor = conn.cursor()\n",
    "\n",
    "try:\n",
    "    # here we can use with statement to automatically close connection once the operation is complete\n",
    "    with cursor:\n",
    "        for data_file in data_files:\n",
    "            if data_file.endswith('.csv'):\n",
    "                cursor.execute(csv_bulk_insert(os.path.join(data_file_folder, data_file), target_sql_table))\n",
    "                #print(os.path.join(data_file_folder, data_file), target_sql_table + ' inserted')\n",
    "        cursor.commit()\n",
    "except Exception as e:\n",
    "    print(e)\n",
    "    conn.rollback()\n",
    "    print('Transaction rollback')"
   ]
  },
  {
   "cell_type": "code",
   "execution_count": null,
   "id": "1a4c1994",
   "metadata": {},
   "outputs": [],
   "source": []
  }
 ],
 "metadata": {
  "kernelspec": {
   "display_name": "Python 3 (ipykernel)",
   "language": "python",
   "name": "python3"
  },
  "language_info": {
   "codemirror_mode": {
    "name": "ipython",
    "version": 3
   },
   "file_extension": ".py",
   "mimetype": "text/x-python",
   "name": "python",
   "nbconvert_exporter": "python",
   "pygments_lexer": "ipython3",
   "version": "3.11.5"
  }
 },
 "nbformat": 4,
 "nbformat_minor": 5
}
